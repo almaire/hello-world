{
 "cells": [
  {
   "cell_type": "code",
   "execution_count": null,
   "metadata": {},
   "outputs": [],
   "source": [
    "import pandas as pd\n",
    "import geopandas as gpd\n",
    "import json\n",
    "from shapely.geometry import shape\n",
    "import folium\n",
    "from geopy import distance\n",
    "\n",
    "file=\"/home/anne.maire@Digital-Grenoble.local/Desktop/Projet_arbre/data/trees.csv\""
   ]
  },
  {
   "cell_type": "code",
   "execution_count": null,
   "metadata": {},
   "outputs": [],
   "source": [
    "def parse_geom(geom_str):\n",
    "    try:\n",
    "        return shape(json.loads(geom_str))\n",
    "    except (TypeError, AttributeError):\n",
    "        return None\n",
    "\n",
    "df=pd.read_csv(file)\n",
    "#print(df.head())\n",
    "#print(df)\n",
    "df['geoJSON']=df['GeoJSON'].apply(parse_geom)\n",
    "gdf=gpd.GeoDataFrame(df,geometry='geoJSON')\n",
    "#print(gdf.head())\n",
    "#print(gdf['GeoJSON'][0])\n",
    "#geoj_list=gdf.to_list()\n",
    "#print(geoj_list)\n"
   ]
  },
  {
   "cell_type": "code",
   "execution_count": null,
   "metadata": {},
   "outputs": [],
   "source": [
    "carte1 = folium.Map(location=(45.175,5.739),zoom_start = 14)"
   ]
  },
  {
   "cell_type": "code",
   "execution_count": null,
   "metadata": {},
   "outputs": [],
   "source": [
    "folium.GeoJson(gdf['geoJSON'].to_json(),\n",
    "                   control=False,\n",
    "                   marker = folium.CircleMarker(radius = 1, # Radius in metres\n",
    "                                           weight = 0, #outline weight\n",
    "                                           fill_color = 'green', \n",
    "                                           fill_opacity = 1)\n",
    "                   ).add_to(carte1)"
   ]
  },
  {
   "cell_type": "code",
   "execution_count": null,
   "metadata": {},
   "outputs": [],
   "source": [
    "carte1"
   ]
  },
  {
   "cell_type": "code",
   "execution_count": null,
   "metadata": {},
   "outputs": [],
   "source": [
    "print(gdf['GeoJSON'])"
   ]
  },
  {
   "cell_type": "code",
   "execution_count": null,
   "metadata": {},
   "outputs": [],
   "source": [
    "print(gdf['geoJSON'])"
   ]
  },
  {
   "cell_type": "code",
   "execution_count": null,
   "metadata": {},
   "outputs": [],
   "source": [
    "#with open(file) as f:\n",
    "#    gj=json.load(f)\n",
    "#features = gj['features'][0]"
   ]
  }
 ],
 "metadata": {
  "kernelspec": {
   "display_name": "py37",
   "language": "python",
   "name": "python3"
  },
  "language_info": {
   "codemirror_mode": {
    "name": "ipython",
    "version": 3
   },
   "file_extension": ".py",
   "mimetype": "text/x-python",
   "name": "python",
   "nbconvert_exporter": "python",
   "pygments_lexer": "ipython3",
   "version": "3.12.4"
  }
 },
 "nbformat": 4,
 "nbformat_minor": 2
}
